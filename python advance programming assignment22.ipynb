{
 "cells": [
  {
   "cell_type": "code",
   "execution_count": 1,
   "id": "9c1f65bb",
   "metadata": {},
   "outputs": [],
   "source": [
    "class Smoothie:\n",
    "    d={\"Strawberries\":1.50,\"Banana\":0.50,\"Mango\":2.50,\"Blueberries\":1.00,\"Raspberries\":1.00,\"Apple\":1.75,\"Pineapple\":3.50}\n",
    "    def __init__(self,l):\n",
    "        self.ingredients=l\n",
    "    def get_cost(self):\n",
    "        c=0\n",
    "        for i in self.ingredients:\n",
    "            c+=Smoothie.d[i]\n",
    "        return \"$\"+str(\"{:.2f}\".format(c))\n",
    "    def get_price(self):\n",
    "        p=self.get_cost()[1:]\n",
    "        p=float(p)*2.5\n",
    "        return \"$\"+str(\"{:.2f}\".format(p))\n",
    "    def get_name(self):\n",
    "        l=self.ingredients\n",
    "        l.sort()\n",
    "        if len(l)==1:\n",
    "            return l[0]+\" \"+\"Smoothie\"\n",
    "        else:\n",
    "            n=\"\"\n",
    "            for i in l:\n",
    "                if i[-1:-8:-1][::-1]==\"berries\":\n",
    "                    n+=i[0:len(i)-7]+\"berry \"\n",
    "                else:\n",
    "                    n+=i+\" \"\n",
    "        return n+\"Fusion\"     "
   ]
  },
  {
   "cell_type": "code",
   "execution_count": 2,
   "id": "2b78d4f8",
   "metadata": {},
   "outputs": [],
   "source": [
    "s1=Smoothie([\"Banana\"])"
   ]
  },
  {
   "cell_type": "code",
   "execution_count": 3,
   "id": "26083265",
   "metadata": {},
   "outputs": [
    {
     "data": {
      "text/plain": [
       "['Banana']"
      ]
     },
     "execution_count": 3,
     "metadata": {},
     "output_type": "execute_result"
    }
   ],
   "source": [
    "s1.ingredients"
   ]
  },
  {
   "cell_type": "code",
   "execution_count": 4,
   "id": "192c4e44",
   "metadata": {},
   "outputs": [
    {
     "data": {
      "text/plain": [
       "'$0.50'"
      ]
     },
     "execution_count": 4,
     "metadata": {},
     "output_type": "execute_result"
    }
   ],
   "source": [
    "s1.get_cost()"
   ]
  },
  {
   "cell_type": "code",
   "execution_count": 5,
   "id": "a6d6ab4b",
   "metadata": {},
   "outputs": [
    {
     "data": {
      "text/plain": [
       "'$1.25'"
      ]
     },
     "execution_count": 5,
     "metadata": {},
     "output_type": "execute_result"
    }
   ],
   "source": [
    "s1.get_price()"
   ]
  },
  {
   "cell_type": "code",
   "execution_count": 6,
   "id": "d0ec7643",
   "metadata": {},
   "outputs": [
    {
     "data": {
      "text/plain": [
       "'Banana Smoothie'"
      ]
     },
     "execution_count": 6,
     "metadata": {},
     "output_type": "execute_result"
    }
   ],
   "source": [
    "s1.get_name()"
   ]
  },
  {
   "cell_type": "code",
   "execution_count": 7,
   "id": "fa71f9ec",
   "metadata": {},
   "outputs": [],
   "source": [
    "s2=Smoothie([\"Raspberries\",\"Strawberries\",\"Blueberries\"])"
   ]
  },
  {
   "cell_type": "code",
   "execution_count": 8,
   "id": "9b5b4fee",
   "metadata": {},
   "outputs": [
    {
     "data": {
      "text/plain": [
       "['Raspberries', 'Strawberries', 'Blueberries']"
      ]
     },
     "execution_count": 8,
     "metadata": {},
     "output_type": "execute_result"
    }
   ],
   "source": [
    "s2.ingredients"
   ]
  },
  {
   "cell_type": "code",
   "execution_count": 9,
   "id": "e8478bd9",
   "metadata": {},
   "outputs": [
    {
     "data": {
      "text/plain": [
       "'$3.50'"
      ]
     },
     "execution_count": 9,
     "metadata": {},
     "output_type": "execute_result"
    }
   ],
   "source": [
    "s2.get_cost()"
   ]
  },
  {
   "cell_type": "code",
   "execution_count": 10,
   "id": "63fbfbbc",
   "metadata": {},
   "outputs": [
    {
     "data": {
      "text/plain": [
       "'$8.75'"
      ]
     },
     "execution_count": 10,
     "metadata": {},
     "output_type": "execute_result"
    }
   ],
   "source": [
    "s2.get_price()"
   ]
  },
  {
   "cell_type": "code",
   "execution_count": 11,
   "id": "09bc4223",
   "metadata": {},
   "outputs": [
    {
     "data": {
      "text/plain": [
       "'Blueberry Raspberry Strawberry Fusion'"
      ]
     },
     "execution_count": 11,
     "metadata": {},
     "output_type": "execute_result"
    }
   ],
   "source": [
    "s2.get_name()"
   ]
  },
  {
   "cell_type": "code",
   "execution_count": 12,
   "id": "90f491b4",
   "metadata": {},
   "outputs": [],
   "source": [
    "import math\n",
    "class Testpaper:\n",
    "    def __init__(self,subject,markscheme,pass_mark):\n",
    "        self.subject=subject\n",
    "        self.markscheme=markscheme\n",
    "        self.pass_mark=pass_mark\n",
    "class Student:\n",
    "    u={}\n",
    "    def __init__(self):\n",
    "        self.tests_taken='No tests taken'    \n",
    "    def take_test(self,p,l):\n",
    "        a=p.markscheme\n",
    "        m=0\n",
    "        d={}\n",
    "        for i in range(len(l)):\n",
    "            if a[i]==l[i]:\n",
    "                m+=1\n",
    "        if ((m*100)//len(l))>=int(p.pass_mark[:2]):\n",
    "            d[p.subject]=\"{}! ({})%\".format(\"Passed\",math.ceil((m*100)/len(l)))\n",
    "        else:\n",
    "            d[p.subject]=\"{}! ({})%\".format(\"Failed\",math.ceil((m*100)/len(l)))\n",
    "        if self in Student.u:\n",
    "            Student.u[self].update( d)\n",
    "        else:\n",
    "            Student.u[self]=d\n",
    "            \n",
    "        self.tests_taken=Student.u[self]\n",
    "        "
   ]
  },
  {
   "cell_type": "code",
   "execution_count": 13,
   "id": "3fe43cb2",
   "metadata": {},
   "outputs": [],
   "source": [
    "paper1 = Testpaper(\"Maths\", [\"1A\", \"2C\", \"3D\", \"4A\", \"5A\"], \"60%\")\n",
    "paper2 = Testpaper(\"Chemistry\", [\"1C\", \"2C\", \"3D\", \"4A\"], \"75%\")\n",
    "paper3 = Testpaper(\"Computing\", [\"1D\", \"2C\", \"3C\", \"4B\", \"5D\", \"6C\", \"7A\"], \"75%\")\n",
    "\n",
    "student1 = Student()\n",
    "student2 = Student()"
   ]
  },
  {
   "cell_type": "code",
   "execution_count": 14,
   "id": "4ae78765",
   "metadata": {},
   "outputs": [
    {
     "data": {
      "text/plain": [
       "'No tests taken'"
      ]
     },
     "execution_count": 14,
     "metadata": {},
     "output_type": "execute_result"
    }
   ],
   "source": [
    "student1.tests_taken "
   ]
  },
  {
   "cell_type": "code",
   "execution_count": 15,
   "id": "5d1414fc",
   "metadata": {},
   "outputs": [
    {
     "data": {
      "text/plain": [
       "{'Maths': 'Passed! (80)%'}"
      ]
     },
     "execution_count": 15,
     "metadata": {},
     "output_type": "execute_result"
    }
   ],
   "source": [
    "student1.take_test(paper1, [\"1A\", \"2D\", \"3D\", \"4A\", \"5A\"])\n",
    "student1.tests_taken"
   ]
  },
  {
   "cell_type": "code",
   "execution_count": 16,
   "id": "244b29d6",
   "metadata": {},
   "outputs": [
    {
     "data": {
      "text/plain": [
       "{'Chemistry': 'Failed! (25)%'}"
      ]
     },
     "execution_count": 16,
     "metadata": {},
     "output_type": "execute_result"
    }
   ],
   "source": [
    "student2.take_test(paper2, [\"1C\", \"2D\", \"3A\", \"4C\"])\n",
    "\n",
    "student2.tests_taken"
   ]
  },
  {
   "cell_type": "code",
   "execution_count": 17,
   "id": "1a1aa00e",
   "metadata": {},
   "outputs": [
    {
     "data": {
      "text/plain": [
       "{'Chemistry': 'Failed! (25)%', 'Computing': 'Failed! (43)%'}"
      ]
     },
     "execution_count": 17,
     "metadata": {},
     "output_type": "execute_result"
    }
   ],
   "source": [
    "student2.take_test(paper3, [\"1A\", \"2C\", \"3A\", \"4C\", \"5D\", \"6C\", \"7B\"])\n",
    "student2.tests_taken"
   ]
  },
  {
   "cell_type": "code",
   "execution_count": 18,
   "id": "f2cbb20e",
   "metadata": {},
   "outputs": [],
   "source": [
    "def manage_delays(t,d,e):\n",
    "    l=[]\n",
    "    if d in t[0]:\n",
    "        h=int(t[1][:2])\n",
    "        m=int(t[1][3:])\n",
    "        if e>=60:\n",
    "            h+=e//60\n",
    "            m+=e%60\n",
    "        a=str(h)+\":\"+str(m)\n",
    "        l.extend(t[0])\n",
    "        return (l,a)\n",
    "    else:\n",
    "        return t\n",
    "    "
   ]
  },
  {
   "cell_type": "code",
   "execution_count": 19,
   "id": "21aa9ec9",
   "metadata": {},
   "outputs": [
    {
     "name": "stdout",
     "output_type": "stream",
     "text": [
      "(['Townsville', 'Suburbia', 'Urbantska'], '13:04')\n",
      "(['Farmsdale', 'Suburbia', 'Lakeside Valley'], '14:20')\n",
      "(['Suburbia', 'Townsville', 'Lakeside Valley'], '14:22')\n"
     ]
    }
   ],
   "source": [
    "trains = [\n",
    "  ([\"Townsville\", \"Suburbia\", \"Urbantska\"], \"13:04\"),\n",
    "  ([\"Farmsdale\", \"Suburbia\", \"Lakeside Valley\"], \"13:20\"),\n",
    "  ([\"Suburbia\", \"Townsville\", \"Lakeside Valley\"], \"13:22\")\n",
    "]\n",
    "\n",
    "for t in trains:\n",
    "    a=manage_delays(t, \"Lakeside Valley\", 60)\n",
    "    t=a\n",
    "    print(t)\n",
    "\n"
   ]
  },
  {
   "cell_type": "code",
   "execution_count": 20,
   "id": "f4f3d11f",
   "metadata": {},
   "outputs": [],
   "source": [
    "class Tracks:\n",
    "    def __init__(self,l):\n",
    "        self.l=l\n",
    "        pass\n",
    "    def trackshorthand(self):\n",
    "        v=0\n",
    "        c=self.l\n",
    "        for i in range(len(c)):\n",
    "            if c[i]==\"-->\":\n",
    "                if v!=8:\n",
    "                    v+=2.67\n",
    "            elif c[i]==\"<-->\":\n",
    "                pass\n",
    "            elif c[i]==\"<--\":\n",
    "                if v!=0:\n",
    "                    v-=2.67\n",
    "            elif c[i]==\"---\":\n",
    "                if v!=0:\n",
    "                    v-=1\n",
    "            if v==0:\n",
    "                d=i\n",
    "                break\n",
    "        if d==len(c)-1:\n",
    "            return True\n",
    "        else:\n",
    "            return d\n",
    "def mine_run(l):\n",
    "    a=Tracks(l)\n",
    "    a=a.trackshorthand()\n",
    "    return a\n",
    "                \n",
    "    "
   ]
  },
  {
   "cell_type": "code",
   "execution_count": 21,
   "id": "d72b58e1",
   "metadata": {},
   "outputs": [
    {
     "data": {
      "text/plain": [
       "True"
      ]
     },
     "execution_count": 21,
     "metadata": {},
     "output_type": "execute_result"
    }
   ],
   "source": [
    "mine_run([\"-->\", \"-->\", \"-->\", \"<--\", \"<--\", \"<--\"]) "
   ]
  },
  {
   "cell_type": "code",
   "execution_count": 22,
   "id": "ad6860cf",
   "metadata": {},
   "outputs": [
    {
     "data": {
      "text/plain": [
       "1"
      ]
     },
     "execution_count": 22,
     "metadata": {},
     "output_type": "execute_result"
    }
   ],
   "source": [
    "mine_run([\"-->\", \"<--\", \"-->\", \"-->\", \"<-->\", \"---\"]) "
   ]
  },
  {
   "cell_type": "code",
   "execution_count": 23,
   "id": "3774337b",
   "metadata": {},
   "outputs": [],
   "source": [
    "class Rectangle:\n",
    "    def __init__(self,x,y,width,height):\n",
    "        self.x=x\n",
    "        self.y=y\n",
    "        self.width=width\n",
    "        self.height=height\n",
    "def intersecting(a,b):\n",
    "    x1=a.x\n",
    "    y1=a.y\n",
    "    w1=a.width\n",
    "    h1=a.height\n",
    "    x2=b.x\n",
    "    y2=b.y\n",
    "    w2=b.width\n",
    "    h2=b.height\n",
    "    if (x1+w1<x2 or x2+w2<x1 or y1+h1<y2 or y2+h2<y1):\n",
    "        return False\n",
    "    return True\n",
    "        \n",
    "        "
   ]
  },
  {
   "cell_type": "code",
   "execution_count": 24,
   "id": "7e219bc2",
   "metadata": {},
   "outputs": [],
   "source": [
    "a = Rectangle(10, 20, 100, 20)\n",
    "b = Rectangle(10, 40, 15, 20)\n",
    "c = Rectangle(50, 50, 20, 30)"
   ]
  },
  {
   "cell_type": "code",
   "execution_count": 25,
   "id": "7affab59",
   "metadata": {},
   "outputs": [
    {
     "data": {
      "text/plain": [
       "True"
      ]
     },
     "execution_count": 25,
     "metadata": {},
     "output_type": "execute_result"
    }
   ],
   "source": [
    "intersecting(a,b)"
   ]
  },
  {
   "cell_type": "code",
   "execution_count": 26,
   "id": "a39f013a",
   "metadata": {},
   "outputs": [
    {
     "data": {
      "text/plain": [
       "False"
      ]
     },
     "execution_count": 26,
     "metadata": {},
     "output_type": "execute_result"
    }
   ],
   "source": [
    "intersecting(a,c)"
   ]
  },
  {
   "cell_type": "code",
   "execution_count": 27,
   "id": "228161c1",
   "metadata": {},
   "outputs": [
    {
     "data": {
      "text/plain": [
       "False"
      ]
     },
     "execution_count": 27,
     "metadata": {},
     "output_type": "execute_result"
    }
   ],
   "source": [
    "intersecting(b,c)"
   ]
  }
 ],
 "metadata": {
  "kernelspec": {
   "display_name": "Python 3 (ipykernel)",
   "language": "python",
   "name": "python3"
  },
  "language_info": {
   "codemirror_mode": {
    "name": "ipython",
    "version": 3
   },
   "file_extension": ".py",
   "mimetype": "text/x-python",
   "name": "python",
   "nbconvert_exporter": "python",
   "pygments_lexer": "ipython3",
   "version": "3.10.9"
  }
 },
 "nbformat": 4,
 "nbformat_minor": 5
}
